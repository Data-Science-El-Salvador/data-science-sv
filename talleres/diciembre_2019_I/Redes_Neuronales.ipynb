{
  "nbformat": 4,
  "nbformat_minor": 0,
  "metadata": {
    "colab": {
      "name": "Redes_Neuronales.ipynb",
      "provenance": [],
      "collapsed_sections": []
    },
    "kernelspec": {
      "name": "python3",
      "display_name": "Python 3"
    }
  },
  "cells": [
    {
      "cell_type": "markdown",
      "metadata": {
        "id": "Vndw0EIwJfNj",
        "colab_type": "text"
      },
      "source": [
        "# Inspiración de los modelos de redes neuronales \n",
        "\n",
        "La idea que ánimo los modelos de redes neuronales fue la de imitar el sistema de computación más complejo de los que se conocen hasta ahora, que es el cerebro. El cerebro esta formado por millones de células llamadas neuronas. Estas neuronas son unos procesadores de información muy sencillos con un canal de entrada de información (dendritas), un órgano de cómputo (soma) y un canal de salida de información (axón). \n",
        "\n",
        "\n",
        "<img src=\"https://docs.google.com/uc?export=download&id=19l1cRCQgTVpeHd9I9STGKUYTUa9kozPm\" height=250 width=250> </img>\n",
        "\n",
        "\n"
      ]
    },
    {
      "cell_type": "markdown",
      "metadata": {
        "id": "1n6gyhfBPM4S",
        "colab_type": "text"
      },
      "source": [
        "# Redes Neuronales Artificiales \n",
        "\n",
        "La representación más común de una red neuronal artificial se encuentra en la siguiente figura: \n",
        "\n",
        "\n",
        "<img src=\"https://docs.google.com/uc?export=download&id=1iVNhc7Vxa35Xc_dcnvuWnHsSPWqgXgIl\" height=250 width=450> </img>\n",
        "\n",
        "\n",
        "\n"
      ]
    },
    {
      "cell_type": "markdown",
      "metadata": {
        "id": "ZQaDKQ7sQkZs",
        "colab_type": "text"
      },
      "source": [
        "Su representación matemática es la siguiente: \n",
        "\n",
        "$$ n_k = w_{k,0} + \\sum w_{k,i} * x_i $$\n",
        "\n",
        "$$ \\hat{y_k} = F(n_k) $$"
      ]
    },
    {
      "cell_type": "markdown",
      "metadata": {
        "id": "IPYjz3TewmAf",
        "colab_type": "text"
      },
      "source": [
        "Los valores $x_i$ representan las entradas que son variables que nos van a permitir predecir la salida de la red neuronal, a los valores $w_{k,i}$ se les conoce como pesos, en un principio estos valores son desconocidos y usaremos algoritmos para encontrar estos valores. El término $w_{k,0}$ se le conoce como bias. F es una función conocida como función de activación la cual permite introducir no-linealidad en la red neuronal. \n",
        "\n",
        "**Nota**: El término $\\hat{y_k}$ denota que estamos aproximando el valor de $y_k$."
      ]
    },
    {
      "cell_type": "markdown",
      "metadata": {
        "id": "wP-bitgfz1lO",
        "colab_type": "text"
      },
      "source": [
        "# La función lógica AND \n",
        "\n",
        "Como ejemplo clásico de los problemas que, en principio, modelaron las\n",
        "redes neuronales y que a su vez nos permitirá mostrar cómo funciona una\n",
        "neurona, simularemos la función lógica AND la cual viene definida por la\n",
        "tabla: \n",
        "\n",
        "| X1 | X2 | X1 AND X2 |\n",
        "|----|----|-----------|\n",
        "| 0  | 0  | 0         |\n",
        "| 0  | 1  | 0         |\n",
        "| 1  | 0  | 0         |\n",
        "| 1  | 1  | 1         |\n",
        "\n",
        "Usando NumPy vamos a emular la función lógica AND usando una red neuronal con la siguiente función de activación: \n",
        "\n",
        "$$ F(n_k) = \\left\\{\n",
        "\\begin{array}{c l}\n",
        " 1 & \\textrm{si } n_k > 0  \\\\\n",
        " 0 & \\textrm{si } n_k \\le 0 \n",
        "\\end{array}\n",
        "\\right.\n",
        "$$\n"
      ]
    },
    {
      "cell_type": "code",
      "metadata": {
        "id": "gFSX0yqYPQ-8",
        "colab_type": "code",
        "colab": {}
      },
      "source": [
        "import numpy as np \n",
        "\n",
        "# Definimos pesos, bias, entradas y salidas de la red neuronal.\n",
        "pesos = np.array([[1, 1]])\n",
        "bias = -1.0\n",
        "entradas = np.array([[0, 0], [0,1], [1, 0], [1, 1]])\n",
        "salidas = np.array([[0, 0, 0, 1]])"
      ],
      "execution_count": 0,
      "outputs": []
    },
    {
      "cell_type": "code",
      "metadata": {
        "id": "FoJTzF2E5QID",
        "colab_type": "code",
        "colab": {}
      },
      "source": [
        "resultado = np.matmul(entradas, pesos.T) + bias\n",
        "resultado = resultado.T"
      ],
      "execution_count": 0,
      "outputs": []
    },
    {
      "cell_type": "code",
      "metadata": {
        "id": "VTFuZ823ETFq",
        "colab_type": "code",
        "outputId": "af106ba8-40ab-4f54-a8a1-527b4843769e",
        "colab": {
          "base_uri": "https://localhost:8080/",
          "height": 34
        }
      },
      "source": [
        "resultado"
      ],
      "execution_count": 0,
      "outputs": [
        {
          "output_type": "execute_result",
          "data": {
            "text/plain": [
              "array([[-1.,  0.,  0.,  1.]])"
            ]
          },
          "metadata": {
            "tags": []
          },
          "execution_count": 3
        }
      ]
    },
    {
      "cell_type": "code",
      "metadata": {
        "id": "m7oRD7aqDwdo",
        "colab_type": "code",
        "colab": {}
      },
      "source": [
        "# Función de activación\n",
        "def activation(x):\n",
        "  if x > 0: \n",
        "    return 1 \n",
        "  else: \n",
        "    return 0 "
      ],
      "execution_count": 0,
      "outputs": []
    },
    {
      "cell_type": "code",
      "metadata": {
        "id": "DReLS4kiD1fW",
        "colab_type": "code",
        "outputId": "6a6045ff-ec7e-4e8b-b030-944b5041758a",
        "colab": {
          "base_uri": "https://localhost:8080/",
          "height": 34
        }
      },
      "source": [
        "activation = np.vectorize(activation) # Para aplicar la función de activación\n",
        "                                      # a cada elemento del NumPy array usamos  \n",
        "                                      # np.vectorize.\n",
        "\n",
        "print(activation(resultado))"
      ],
      "execution_count": 0,
      "outputs": [
        {
          "output_type": "stream",
          "text": [
            "[[0 0 0 1]]\n"
          ],
          "name": "stdout"
        }
      ]
    },
    {
      "cell_type": "code",
      "metadata": {
        "id": "8r3HFETZfnDf",
        "colab_type": "code",
        "outputId": "502d5f31-35b9-4515-8ed1-13bde14b0fdd",
        "colab": {
          "base_uri": "https://localhost:8080/",
          "height": 34
        }
      },
      "source": [
        "# Comparamos la salida de la red neuronal con el vector de salidas.\n",
        "activation(resultado) == salidas"
      ],
      "execution_count": 0,
      "outputs": [
        {
          "output_type": "execute_result",
          "data": {
            "text/plain": [
              "array([[ True,  True,  True,  True]])"
            ]
          },
          "metadata": {
            "tags": []
          },
          "execution_count": 10
        }
      ]
    },
    {
      "cell_type": "markdown",
      "metadata": {
        "id": "I2ZuuOnjEwrh",
        "colab_type": "text"
      },
      "source": [
        "Resulta que la red neuronal reproduce la función lógica AND. A continuación se muestra las regiones de decisión que produce este modelo. \n",
        "\n",
        "\\\n",
        "\n",
        "<img src=\"https://docs.google.com/uc?export=download&id=1BDhMrAk0F21EMJsB8BXHySikEUtK61EL\" height=250 width=350> </img>\n",
        "\n"
      ]
    },
    {
      "cell_type": "markdown",
      "metadata": {
        "id": "lH-Gj6qxGoHj",
        "colab_type": "text"
      },
      "source": [
        "## La función lógica XOR \n",
        "\n",
        "El anterior problema es linealmente separable este tipo de problema tiene la característica de ser resueltos mediante regiones de decisión lineales tales como una recta en el plano cartesiano.\n",
        "\n",
        "Existen problemas que no son separables linealmente y hay que recurrir a modelos más complejos. Un ejemplo clásico de este tipo de problema es la función lógica XOR la cual tiene asociada la siguiente tabla: \n",
        "\n",
        "\n",
        "| X1 | X2 | X1 XOR X2 |\n",
        "|----|----|-----------|\n",
        "| 0  | 0  | 0         |\n",
        "| 0  | 1  | 1         |\n",
        "| 1  | 0  | 1         |\n",
        "| 1  | 1  | 0         |\n",
        "\n",
        "\n",
        "\n",
        "\n"
      ]
    },
    {
      "cell_type": "markdown",
      "metadata": {
        "id": "0ur0MoqUINAX",
        "colab_type": "text"
      },
      "source": [
        "Para resolver este problema tomaremos dos redes neuronales y las combinaremos lo cual se ilustra en la siguiente figura. \n",
        "\n",
        "\n",
        "<img src=\"https://docs.google.com/uc?export=download&id=18li4bYQj50gZet5ptd0k7Dmfj85LpewR\" height=250 width=450> </img>\n",
        "\n",
        "El siguiente código en Python reproduce la función lógica XOR. "
      ]
    },
    {
      "cell_type": "code",
      "metadata": {
        "id": "5ICEUt_QLrYm",
        "colab_type": "code",
        "colab": {}
      },
      "source": [
        "entradas = np.array([[0, 0], [0,1], [1, 0], [1, 1]]) # Función lógica XOR \n",
        "salidas = np.array([[0, 1, 1, 0]])\n"
      ],
      "execution_count": 0,
      "outputs": []
    },
    {
      "cell_type": "code",
      "metadata": {
        "id": "FV9UGXUXK2lp",
        "colab_type": "code",
        "outputId": "da52bb78-764a-4cb0-be13-37f97ba9c52c",
        "colab": {
          "base_uri": "https://localhost:8080/",
          "height": 34
        }
      },
      "source": [
        "pesos_neurona1 = np.array([[1, 1]])  # Calculamos la salida de la neurona h1 \n",
        "bias_neurona1 = 0 \n",
        "\n",
        "salida_neurona1 = np.matmul(entradas, pesos_neurona1.T) + bias_neurona1\n",
        "salida_neurona1 = salida_neurona1.T\n",
        "h1 =  activation(salida_neurona1)\n",
        "print(h1)"
      ],
      "execution_count": 0,
      "outputs": [
        {
          "output_type": "stream",
          "text": [
            "[[0 1 1 1]]\n"
          ],
          "name": "stdout"
        }
      ]
    },
    {
      "cell_type": "code",
      "metadata": {
        "id": "clbcVNQpMbTQ",
        "colab_type": "code",
        "outputId": "d4cd097a-1743-4a72-a145-8fca590c0d5f",
        "colab": {
          "base_uri": "https://localhost:8080/",
          "height": 34
        }
      },
      "source": [
        "pesos_neurona2 = np.array([[-1, -1]]) # Calculamos la salida de la neurona h2\n",
        "bias_neurona2 = 1.5\n",
        "\n",
        "salida_neurona2 = np.matmul(entradas, pesos_neurona2.T) + bias_neurona2\n",
        "salida_neurona2 = salida_neurona2.T\n",
        "h2 =  activation(salida_neurona2)\n",
        "print(h2)"
      ],
      "execution_count": 0,
      "outputs": [
        {
          "output_type": "stream",
          "text": [
            "[[1 1 1 0]]\n"
          ],
          "name": "stdout"
        }
      ]
    },
    {
      "cell_type": "code",
      "metadata": {
        "id": "ynSfHgKfPfls",
        "colab_type": "code",
        "colab": {}
      },
      "source": [
        "pesos_neurona_salida = np.array([[1, 1]])  # La salida de h1 y h2 se \n",
        "bias_neurona_salida = -1                   # convierte en la entrada de la \n",
        "                                           # neurona de salida.\n",
        "\n",
        "salida_n1_n2 =  np.concatenate((h1, h2), axis=1).reshape(4, 2)                                            "
      ],
      "execution_count": 0,
      "outputs": []
    },
    {
      "cell_type": "code",
      "metadata": {
        "id": "yUT4cydeTzKI",
        "colab_type": "code",
        "colab": {}
      },
      "source": [
        "resultado_final = np.matmul(salida_n1_n2, pesos_neurona_salida.T) + bias_neurona_salida\n",
        "resultado_final = resultado_final.T"
      ],
      "execution_count": 0,
      "outputs": []
    },
    {
      "cell_type": "code",
      "metadata": {
        "id": "QYm1x-ngT_5d",
        "colab_type": "code",
        "outputId": "327e1ae5-95eb-4d69-9cff-129c5268a36e",
        "colab": {
          "base_uri": "https://localhost:8080/",
          "height": 34
        }
      },
      "source": [
        "resultado_final == salidas"
      ],
      "execution_count": 0,
      "outputs": [
        {
          "output_type": "execute_result",
          "data": {
            "text/plain": [
              "array([[ True,  True,  True,  True]])"
            ]
          },
          "metadata": {
            "tags": []
          },
          "execution_count": 16
        }
      ]
    },
    {
      "cell_type": "markdown",
      "metadata": {
        "id": "8qlX7bcuYMNU",
        "colab_type": "text"
      },
      "source": [
        "Podemos ilustrar nuestro modelo de manera gráfica por medio de la siguiente figura: \n",
        "\n",
        "\n",
        "<img src=\"https://docs.google.com/uc?export=download&id=1vH4ZYrOMgyYQzvkYyeYRtjDXhNyIgQ9C\" height=250 width=350> </img>\n",
        "\n",
        "\n",
        "\n",
        "\n",
        "\n"
      ]
    },
    {
      "cell_type": "markdown",
      "metadata": {
        "id": "Iu5iFRTRZGes",
        "colab_type": "text"
      },
      "source": [
        "Reflexionemos un poco sobre la solución encontrada al problema de modelar la función XOR. Observando la anterior figura  podemos encontrar dos neuronas, una implementa la decisión lineal DL1 (H1) y la otra la decisión lineal DL2 (H2). La neurona que combina a las neuronas H1 y H2 se activa únicamente cuando la neurona correspondiente a DL1 esta activada y DL2 desactivada, esto es precisamente lo que hace el código anterior. El anterior modelo es conocido como perceptrón multicapa (MLP) y es ampliamente citado en la literatura de redes neuronales. Un perceptron multicapa tiene tres tipos de neuronas de entrada, ocultas y salidas lo cual se muestra en la siguiente figura.\n",
        "\n",
        "\n",
        "\n",
        "\n",
        "<img src=\"https://docs.google.com/uc?export=download&id=1qyDLGjrRhWNMWb9-zm5bkM52O9G8r8ta\" height=450 width=650> </img>\n",
        "\n",
        "A medida que se incrementa el número de neuronas ocultas la red neuronal tiene una mayor capacidad de representar patrones más complejos. \n"
      ]
    },
    {
      "cell_type": "markdown",
      "metadata": {
        "id": "5i3m-pxQesWW",
        "colab_type": "text"
      },
      "source": [
        "# Entrenamiento de una red neuronal \n",
        "\n",
        "Surge la pregunta como obtengo los pesos del modelo MLP, para lograr esto primero defino lo que se conoce como función de perdida la cual permite medir la idoneidad de los pesos de la red neuronal. En problemas de clasificación binaria se suele usar la cross entropy la cual se define de la siguiente manera:\n",
        "\n",
        "$$ -\\frac{1}{N} \\sum_{n=1}^{N} y_n \\log \\hat{y_n} + (1-y_n) \\log({1-\\hat{y_n}})   $$ \n",
        "\n",
        "**Nota**: $y_n$ son valores 0 o 1 y $\\hat{y_n}$ es un valor entre 0 y 1 que representa la probabilidad de que el modelo prediga la clase 1 en el individuo n-ésimo. \n",
        "\n",
        "Una vez defino mi función de perdida puedo hacer uso de algoritmos de optimización como el gradiente estocastico los cuales actualizan los pesos segun la siguiente regla: \n",
        "\n",
        "$$\n",
        "w \\leftarrow w - \\eta (\\alpha \\frac{\\partial R(w)}{\\partial w}\n",
        "+ \\frac{\\partial L(w^T x_i + b, y_i)}{\\partial w}) $$\n",
        "\n",
        "El parámetro $ \\eta $ se conoce como tasa de aprendizaje, valores muy altos pueden hacer que el algoritmo oscile y valores muy pequeños pueden retrasar el tiempo de ejecución del algoritmo, por lo tanto $ \\eta $ es un parámetro que debe ser establecido por medio de experimentación. \n",
        "\n",
        "Los términos que involucran el símbolo $ \\partial $ permitan al algoritmo concentrarse en direcciones donde la función de perdida decrese más y por tanto estaria más cerca de una solución.\n",
        "\n",
        "A continuación vamos a hacer uso de la libreria scikit-learn para ver como funciona el modelo MLP con datos simulados, esto es algo que se suele con fines pedagógicos, para concentrarnos en como las redes neuronales trabajan y no en detalles específicos de un conjunto de datos."
      ]
    },
    {
      "cell_type": "code",
      "metadata": {
        "id": "Bz5Q-nZmlDgI",
        "colab_type": "code",
        "outputId": "b069ad2d-dcda-4e4e-9e60-73dac3f76357",
        "colab": {
          "base_uri": "https://localhost:8080/",
          "height": 369
        }
      },
      "source": [
        "from sklearn.datasets import make_moons\n",
        "from sklearn.preprocessing import StandardScaler\n",
        "import pandas as pd \n",
        "import matplotlib.pyplot as plt\n",
        "import seaborn as sns\n",
        "\n",
        "# generando datos simulados\n",
        "X, y = make_moons(n_samples=100, noise=0.1)\n",
        "\n",
        "# Escalamos los datos a que tengan media 0 y desviación 1.\n",
        "# Esta operación nos permitirá que nuestro algoritmo trabaje mejor.\n",
        "scaler = StandardScaler()\n",
        "X = scaler.fit_transform(X)\n",
        "\n",
        "\n",
        "dictionario = {'x' : X[:,0], \n",
        "               'y' : X[:,1], \n",
        "               'label' : y }\n",
        "\n",
        "# Usamos un pandas dataframe para almacenar los datos y \n",
        "# luego graficarlos.\n",
        "\n",
        "datos = pd.DataFrame(dictionario)\n",
        "\n",
        "sns.lmplot('x', 'y', data=datos, hue='label', fit_reg=False)\n",
        "plt.show()"
      ],
      "execution_count": 0,
      "outputs": [
        {
          "output_type": "display_data",
          "data": {
            "image/png": "[encoded data removed]",
            "text/plain": [
              "<Figure size 402.375x360 with 1 Axes>"
            ]
          },
          "metadata": {
            "tags": []
          }
        }
      ]
    },
    {
      "cell_type": "markdown",
      "metadata": {
        "id": "Me1VITcoU7Dt",
        "colab_type": "text"
      },
      "source": [
        "El patron anterior es claramente no-lineal, a continuación crearemos una instancia de la clase MLPClassifier configurando el número de capas ocultas en 10 y estableciendo como función de activación la función logística: \n",
        "\n",
        "$ f(x) = \\frac{1}{1 + \\exp{-x}} $\n",
        "\n",
        "Además como método de optimización usaremos el descendo del gradiente estocástico, la tasa de aprendizaje es 0.001 y el máximo número de iteraciones es 50000."
      ]
    },
    {
      "cell_type": "code",
      "metadata": {
        "id": "mysOf6BL07D8",
        "colab_type": "code",
        "colab": {}
      },
      "source": [
        "\n",
        "\n",
        "from sklearn.neural_network import MLPClassifier\n",
        "\n",
        "hidden_layer_sizes = 50\n",
        "\n",
        "mlp = MLPClassifier(hidden_layer_sizes=(hidden_layer_sizes), activation='logistic', solver='sgd',  \n",
        "                    max_iter=50000, learning_rate_init=0.001, verbose=True)\n",
        "\n"
      ],
      "execution_count": 0,
      "outputs": []
    },
    {
      "cell_type": "markdown",
      "metadata": {
        "id": "S0cF_81dX6Gp",
        "colab_type": "text"
      },
      "source": [
        "La siguiente celda de código realiza el proceso de entrenamiento con lo que obtenemos valores para los pesos de la red neuronal."
      ]
    },
    {
      "cell_type": "code",
      "metadata": {
        "id": "MS_3T-8P2MC0",
        "colab_type": "code",
        "colab": {}
      },
      "source": [
        "mlp.fit(X,y)"
      ],
      "execution_count": 0,
      "outputs": []
    },
    {
      "cell_type": "markdown",
      "metadata": {
        "id": "HhgUMgDNYL-T",
        "colab_type": "text"
      },
      "source": [
        "Realizamos prediciones sobre los datos y calculamos el porcentaje de datos clasificados correctamente. "
      ]
    },
    {
      "cell_type": "code",
      "metadata": {
        "id": "l-PiYSlB3bHD",
        "colab_type": "code",
        "outputId": "89aaa999-50cf-49e1-c52a-0246729b44cc",
        "colab": {
          "base_uri": "https://localhost:8080/",
          "height": 34
        }
      },
      "source": [
        "predictions = mlp.predict(X)\n",
        "from sklearn.metrics import accuracy_score\n",
        "print(accuracy_score(y, predictions))"
      ],
      "execution_count": 0,
      "outputs": [
        {
          "output_type": "stream",
          "text": [
            "0.85\n"
          ],
          "name": "stdout"
        }
      ]
    },
    {
      "cell_type": "markdown",
      "metadata": {
        "id": "BYV3CTVyYsMr",
        "colab_type": "text"
      },
      "source": [
        "En la celda anterior nos tendria que dar un valor cercano a 0.85 esto nos dice que el modelo clasifica correctamente alrededor del 85% de los datos. \n",
        "\n",
        "**Ejercicio**: Repetir el proceso anterior con el siguiente conjunto de datos. "
      ]
    },
    {
      "cell_type": "code",
      "metadata": {
        "id": "KjbNM3uY3r5Q",
        "colab_type": "code",
        "outputId": "30d56cd3-1781-4285-c87e-1e4fdc6c4b5d",
        "colab": {
          "base_uri": "https://localhost:8080/",
          "height": 369
        }
      },
      "source": [
        "from sklearn.datasets import make_classification\n",
        "\n",
        "# generando datos simulados\n",
        "X, y = make_classification(n_samples=100)\n",
        "\n",
        "\n",
        "X = scaler.fit_transform(X)\n",
        "\n",
        "\n",
        "dictionario = {'x' : X[:,0], \n",
        "               'y' : X[:,1], \n",
        "               'label' : y }\n",
        "datos = pd.DataFrame(dictionario)\n",
        "\n",
        "sns.lmplot('x', 'y', data=datos, hue='label', fit_reg=False)\n",
        "plt.show()\n"
      ],
      "execution_count": 0,
      "outputs": [
        {
          "output_type": "display_data",
          "data": {
            "image/png": "[encoded data removed]",
            "text/plain": [
              "<Figure size 402.375x360 with 1 Axes>"
            ]
          },
          "metadata": {
            "tags": []
          }
        }
      ]
    },
    {
      "cell_type": "code",
      "metadata": {
        "id": "VGkPLWlco31O",
        "colab_type": "code",
        "colab": {}
      },
      "source": [
        ""
      ],
      "execution_count": 0,
      "outputs": []
    }
  ]
}