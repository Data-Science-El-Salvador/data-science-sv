{
  "nbformat": 4,
  "nbformat_minor": 0,
  "metadata": {
    "colab": {
      "name": "Introduccion_Numpy.ipynb",
      "provenance": [],
      "collapsed_sections": []
    },
    "kernelspec": {
      "name": "python3",
      "display_name": "Python 3"
    }
  },
  "cells": [
    {
      "cell_type": "markdown",
      "metadata": {
        "id": "xZca5I1yGX9W",
        "colab_type": "text"
      },
      "source": [
        "# Introducción\n",
        "\n",
        "NumPy es un paquete de Python para realizar computación cientifíca. Entre las funcionalidades de NumPy se encuentra operaciones matriciales las cuales son usadas en redes neuronales. Una de las ventajas de usar NumPy es que las operaciones matriciales estan optimizadas con lenguaje C. A continuación daremos ejemplos del uso de operaciones matriciales con NumPy.\n",
        "\n",
        "# Importando NumPy\n",
        "\n",
        "La forma estandard de importar NumPy es la siguiente:"
      ]
    },
    {
      "cell_type": "code",
      "metadata": {
        "id": "iFSH32rAIyk9",
        "colab_type": "code",
        "colab": {}
      },
      "source": [
        "import numpy as np "
      ],
      "execution_count": 0,
      "outputs": []
    },
    {
      "cell_type": "markdown",
      "metadata": {
        "id": "tjapn6qdJh0_",
        "colab_type": "text"
      },
      "source": [
        "**Ejercicio**: vamos a acceder a la versión de numpy ejecutando lo siguiente en la siguiente celda y ejecutando enter: \n",
        "\n",
        "print(np.\\_\\_version\\_\\_)"
      ]
    },
    {
      "cell_type": "code",
      "metadata": {
        "id": "Wm9jAwQzI5_P",
        "colab_type": "code",
        "colab": {}
      },
      "source": [
        ""
      ],
      "execution_count": 0,
      "outputs": []
    },
    {
      "cell_type": "markdown",
      "metadata": {
        "id": "N2AOCr3OKi1c",
        "colab_type": "text"
      },
      "source": [
        "# Tipos de Datos en NumPy \n",
        "\n",
        "NumPy tiene el objeto ndarray los cuales son similares a la listas de Python, sin embargo, pueden tener diferentes números de dimensiones. Entre los tipos de datos que tiene NumPy están: escalares, vectores y matrices. \n",
        "\n",
        "## Escalares \n",
        "\n",
        "Escalares son tipos de datos que tienen dimensión cero, uno puede pensar en ellos como entes atomicos (no se pueden dividir). En la siguiente celda declaramos un valor entero x y luego mostramos su atributo shape (dimensión).  "
      ]
    },
    {
      "cell_type": "code",
      "metadata": {
        "id": "T8k8HpZFMp3C",
        "colab_type": "code",
        "outputId": "6291c6e7-6168-4f84-b360-dc6e59da19fc",
        "colab": {
          "base_uri": "https://localhost:8080/",
          "height": 34
        }
      },
      "source": [
        "x = np.array(5)\n",
        "print(x.shape)"
      ],
      "execution_count": 46,
      "outputs": [
        {
          "output_type": "stream",
          "text": [
            "()\n"
          ],
          "name": "stdout"
        }
      ]
    },
    {
      "cell_type": "markdown",
      "metadata": {
        "id": "mThfY-2cRJvw",
        "colab_type": "text"
      },
      "source": [
        "## Vectores \n",
        "\n",
        "Los vectores tienen dimensión 1 y deben contener elementos del mismo tipo, por ejemplo puedo crear un vector con valores de tipo int o float pero no de ambos tipos. En la siguiente celda creamos un vector a partir de una lista que contiene enteros y luego desplegamos su atributo shape."
      ]
    },
    {
      "cell_type": "code",
      "metadata": {
        "id": "Ded2a2YHQJrc",
        "colab_type": "code",
        "outputId": "49575ced-25c6-4700-e789-ab9d4ff16894",
        "colab": {
          "base_uri": "https://localhost:8080/",
          "height": 34
        }
      },
      "source": [
        "x2 = np.array([1, 2, 3, 4, 5])\n",
        "print(x2.shape)"
      ],
      "execution_count": 47,
      "outputs": [
        {
          "output_type": "stream",
          "text": [
            "(5,)\n"
          ],
          "name": "stdout"
        }
      ]
    },
    {
      "cell_type": "markdown",
      "metadata": {
        "id": "KMgOOabdwoM_",
        "colab_type": "text"
      },
      "source": [
        "Podemos acceder a elementos individuales dentro del ndarray de la siguiente manera:"
      ]
    },
    {
      "cell_type": "code",
      "metadata": {
        "id": "lMfK5DjlwzHg",
        "colab_type": "code",
        "outputId": "88a8813a-a57d-43f9-a460-bd0122b2e55f",
        "colab": {
          "base_uri": "https://localhost:8080/",
          "height": 34
        }
      },
      "source": [
        "x2[2] # accesamos al segundo elemento de x2 "
      ],
      "execution_count": 51,
      "outputs": [
        {
          "output_type": "execute_result",
          "data": {
            "text/plain": [
              "3"
            ]
          },
          "metadata": {
            "tags": []
          },
          "execution_count": 51
        }
      ]
    },
    {
      "cell_type": "markdown",
      "metadata": {
        "id": "x4dY_gylxR-N",
        "colab_type": "text"
      },
      "source": [
        "Tambien podemos usar técnicas de indexamiento, por ejemplo si quisieramos acceder del segundo elemento al cuarto de x2 ejecutariamos lo siguiente:"
      ]
    },
    {
      "cell_type": "code",
      "metadata": {
        "id": "AL2bRTYTxQ7v",
        "colab_type": "code",
        "outputId": "5a87b29e-55a6-42b1-c4da-43098095257c",
        "colab": {
          "base_uri": "https://localhost:8080/",
          "height": 34
        }
      },
      "source": [
        "x2[1:4]"
      ],
      "execution_count": 52,
      "outputs": [
        {
          "output_type": "execute_result",
          "data": {
            "text/plain": [
              "array([2, 3, 4])"
            ]
          },
          "metadata": {
            "tags": []
          },
          "execution_count": 52
        }
      ]
    },
    {
      "cell_type": "markdown",
      "metadata": {
        "id": "5nw5ssJMxumr",
        "colab_type": "text"
      },
      "source": [
        "En cambio si quisieramos acceder del tercer elemento hasta el final ejecutariamos lo siguiente: "
      ]
    },
    {
      "cell_type": "code",
      "metadata": {
        "id": "Btoxe8bNx5kr",
        "colab_type": "code",
        "outputId": "07c2b790-f82e-4582-99bc-d58d80a39ac2",
        "colab": {
          "base_uri": "https://localhost:8080/",
          "height": 34
        }
      },
      "source": [
        "x2[2:]"
      ],
      "execution_count": 53,
      "outputs": [
        {
          "output_type": "execute_result",
          "data": {
            "text/plain": [
              "array([3, 4, 5])"
            ]
          },
          "metadata": {
            "tags": []
          },
          "execution_count": 53
        }
      ]
    },
    {
      "cell_type": "markdown",
      "metadata": {
        "id": "yVvYo4RAx_GH",
        "colab_type": "text"
      },
      "source": [
        "## Matrices\n",
        "\n",
        "Las matrices son estructuras de datos en NumPy que tienen dos dimensiones (filas y columnas), para crear una matriz en NumPy debes de pasar una lista de listas de la siguiente manera. "
      ]
    },
    {
      "cell_type": "code",
      "metadata": {
        "id": "YoIjs_YZyBGD",
        "colab_type": "code",
        "colab": {}
      },
      "source": [
        "x3 = np.array([[1, 2, 3], [4, 5, 6]])"
      ],
      "execution_count": 0,
      "outputs": []
    },
    {
      "cell_type": "code",
      "metadata": {
        "id": "zi-pLYr00HcX",
        "colab_type": "code",
        "outputId": "7c2e6f90-51b2-41c8-dcbe-fd2d07361e3e",
        "colab": {
          "base_uri": "https://localhost:8080/",
          "height": 52
        }
      },
      "source": [
        "print(x3) # mostrando la información de x3"
      ],
      "execution_count": 59,
      "outputs": [
        {
          "output_type": "stream",
          "text": [
            "[[1 2 3]\n",
            " [4 5 6]]\n"
          ],
          "name": "stdout"
        }
      ]
    },
    {
      "cell_type": "code",
      "metadata": {
        "id": "iH50byDm0Lnf",
        "colab_type": "code",
        "outputId": "3fb1a595-4315-4e2c-c400-d49df30cda6f",
        "colab": {
          "base_uri": "https://localhost:8080/",
          "height": 34
        }
      },
      "source": [
        "print(x3.shape) # mostrando la dimensión de x3 "
      ],
      "execution_count": 60,
      "outputs": [
        {
          "output_type": "stream",
          "text": [
            "(2, 3)\n"
          ],
          "name": "stdout"
        }
      ]
    },
    {
      "cell_type": "markdown",
      "metadata": {
        "id": "R0YA51kC0Y7X",
        "colab_type": "text"
      },
      "source": [
        "Podemos acceder a elementos individuales o a submatrices de la siguiente forma:"
      ]
    },
    {
      "cell_type": "code",
      "metadata": {
        "id": "HJmAdR6c0gpD",
        "colab_type": "code",
        "outputId": "89404bcb-e74c-40dd-a61f-45ee0d6643e5",
        "colab": {
          "base_uri": "https://localhost:8080/",
          "height": 34
        }
      },
      "source": [
        "print(x3[0,0]) # Elemento en la primera fila y primera columna"
      ],
      "execution_count": 61,
      "outputs": [
        {
          "output_type": "stream",
          "text": [
            "1\n"
          ],
          "name": "stdout"
        }
      ]
    },
    {
      "cell_type": "code",
      "metadata": {
        "id": "oa6Z6KXJ0nct",
        "colab_type": "code",
        "outputId": "e7ebfb03-3b99-4141-e15d-8e33944db790",
        "colab": {
          "base_uri": "https://localhost:8080/",
          "height": 34
        }
      },
      "source": [
        "print(x3[0:,0]) # Primera columna "
      ],
      "execution_count": 62,
      "outputs": [
        {
          "output_type": "stream",
          "text": [
            "[1 4]\n"
          ],
          "name": "stdout"
        }
      ]
    },
    {
      "cell_type": "markdown",
      "metadata": {
        "id": "_GtqDX5-1G3m",
        "colab_type": "text"
      },
      "source": [
        "# Cambiando las dimensiones de un NumPy array\n",
        "\n",
        "Por ejemplo definamos el siguiente vector. "
      ]
    },
    {
      "cell_type": "code",
      "metadata": {
        "id": "8FVl-Ggk1R7w",
        "colab_type": "code",
        "outputId": "9c29a1ef-4da6-442d-e7be-30613ed521aa",
        "colab": {
          "base_uri": "https://localhost:8080/",
          "height": 34
        }
      },
      "source": [
        "x4 = np.array([7, 8 , 9 , 10])\n",
        "print(x4.shape)"
      ],
      "execution_count": 63,
      "outputs": [
        {
          "output_type": "stream",
          "text": [
            "(4,)\n"
          ],
          "name": "stdout"
        }
      ]
    },
    {
      "cell_type": "markdown",
      "metadata": {
        "id": "4tSmqFAK1cHZ",
        "colab_type": "text"
      },
      "source": [
        "Supongamos que necesitamos que este vector sea una matriz 1x4 el código sera el siguiente: "
      ]
    },
    {
      "cell_type": "code",
      "metadata": {
        "id": "-0Yi1UE01X8X",
        "colab_type": "code",
        "outputId": "823d6019-f580-42a0-995d-7e6d3f80b2cd",
        "colab": {
          "base_uri": "https://localhost:8080/",
          "height": 52
        }
      },
      "source": [
        "temp1 = x4.reshape(1, 4)\n",
        "print(temp1)\n",
        "print(temp1.shape)"
      ],
      "execution_count": 64,
      "outputs": [
        {
          "output_type": "stream",
          "text": [
            "[[ 7  8  9 10]]\n",
            "(1, 4)\n"
          ],
          "name": "stdout"
        }
      ]
    },
    {
      "cell_type": "markdown",
      "metadata": {
        "id": "aVM2ZD7K11IW",
        "colab_type": "text"
      },
      "source": [
        "De igual manera podemos crear una matriz de 4x1 a partir del vector x4 de la siguiente manera: "
      ]
    },
    {
      "cell_type": "code",
      "metadata": {
        "id": "WxCypj8-1xYP",
        "colab_type": "code",
        "outputId": "dd297d23-89da-4843-acdf-d2f2f3809594",
        "colab": {
          "base_uri": "https://localhost:8080/",
          "height": 104
        }
      },
      "source": [
        "temp2 = x4.reshape(4, 1)\n",
        "print(temp2)\n",
        "print(temp2.shape)"
      ],
      "execution_count": 65,
      "outputs": [
        {
          "output_type": "stream",
          "text": [
            "[[ 7]\n",
            " [ 8]\n",
            " [ 9]\n",
            " [10]]\n",
            "(4, 1)\n"
          ],
          "name": "stdout"
        }
      ]
    },
    {
      "cell_type": "markdown",
      "metadata": {
        "id": "XBTANjQ82Mc5",
        "colab_type": "text"
      },
      "source": [
        "Tambien se puede usar la siguiente instrucción:"
      ]
    },
    {
      "cell_type": "code",
      "metadata": {
        "id": "3-avIv1f2JDt",
        "colab_type": "code",
        "outputId": "e385e701-0b4e-41b2-83ca-389bd6216839",
        "colab": {
          "base_uri": "https://localhost:8080/",
          "height": 52
        }
      },
      "source": [
        "temp1 = x4[None, :]\n",
        "print(temp1)\n",
        "print(temp1.shape)"
      ],
      "execution_count": 66,
      "outputs": [
        {
          "output_type": "stream",
          "text": [
            "[[ 7  8  9 10]]\n",
            "(1, 4)\n"
          ],
          "name": "stdout"
        }
      ]
    },
    {
      "cell_type": "code",
      "metadata": {
        "id": "EPJMSVL32m54",
        "colab_type": "code",
        "outputId": "7a622579-e698-4257-a42b-3ceec4734b56",
        "colab": {
          "base_uri": "https://localhost:8080/",
          "height": 104
        }
      },
      "source": [
        "temp2 = x4[:, None]\n",
        "print(temp2)\n",
        "print(temp2.shape)"
      ],
      "execution_count": 67,
      "outputs": [
        {
          "output_type": "stream",
          "text": [
            "[[ 7]\n",
            " [ 8]\n",
            " [ 9]\n",
            " [10]]\n",
            "(4, 1)\n"
          ],
          "name": "stdout"
        }
      ]
    },
    {
      "cell_type": "markdown",
      "metadata": {
        "id": "XB8WdbFb2xoJ",
        "colab_type": "text"
      },
      "source": [
        "**Ejercicio**: Crear un vector con los siguientes elementos 2, 3, 5, 7 y luego a partir de ese vector crear una matriz con dimensiones 4 filas y 1 columna. "
      ]
    },
    {
      "cell_type": "code",
      "metadata": {
        "id": "Z9mJLruOMuBT",
        "colab_type": "code",
        "colab": {}
      },
      "source": [
        ""
      ],
      "execution_count": 0,
      "outputs": []
    },
    {
      "cell_type": "markdown",
      "metadata": {
        "id": "K07XFCkLMuw5",
        "colab_type": "text"
      },
      "source": [
        "# Operaciones entre una matriz y un escalar\n",
        "\n",
        "Una ventaja de usar NumPy array sobre las listas de Python es que podemos realizar operaciones sobre cada elemento sin la obligación de usar bucles. Por ejemplo podemos sumar un escalar a cada elemento de una matriz de la siguiente manera: "
      ]
    },
    {
      "cell_type": "code",
      "metadata": {
        "id": "sVscwwbNN3Mt",
        "colab_type": "code",
        "colab": {
          "base_uri": "https://localhost:8080/",
          "height": 52
        },
        "outputId": "1a36cd79-e52b-4acd-efa7-1dfb11fa9ef1"
      },
      "source": [
        "A = np.array([[1, 2], [3, 4]])\n",
        "print(A)"
      ],
      "execution_count": 68,
      "outputs": [
        {
          "output_type": "stream",
          "text": [
            "[[1 2]\n",
            " [3 4]]\n"
          ],
          "name": "stdout"
        }
      ]
    },
    {
      "cell_type": "code",
      "metadata": {
        "id": "ihXMAiygN9I2",
        "colab_type": "code",
        "colab": {
          "base_uri": "https://localhost:8080/",
          "height": 52
        },
        "outputId": "cb8fcce4-b9d7-457e-d864-88c871855317"
      },
      "source": [
        "A + 5  # Sumo 5 a cada elemento de la matriz A "
      ],
      "execution_count": 70,
      "outputs": [
        {
          "output_type": "execute_result",
          "data": {
            "text/plain": [
              "array([[6, 7],\n",
              "       [8, 9]])"
            ]
          },
          "metadata": {
            "tags": []
          },
          "execution_count": 70
        }
      ]
    },
    {
      "cell_type": "markdown",
      "metadata": {
        "id": "STLX70oBOf4p",
        "colab_type": "text"
      },
      "source": [
        "Otra operación común es multiplicar un escalar por una matriz, por ejemplo  para multiplicar la matriz A definida anteriormente por el escalar $\\frac{1}{10}$ debemos ejecutar el siguiente código: "
      ]
    },
    {
      "cell_type": "code",
      "metadata": {
        "id": "7xTC3T4nN-kS",
        "colab_type": "code",
        "colab": {
          "base_uri": "https://localhost:8080/",
          "height": 52
        },
        "outputId": "76282b92-6ac4-4a13-b083-25f4a596198f"
      },
      "source": [
        "A * (1/10)"
      ],
      "execution_count": 71,
      "outputs": [
        {
          "output_type": "execute_result",
          "data": {
            "text/plain": [
              "array([[0.1, 0.2],\n",
              "       [0.3, 0.4]])"
            ]
          },
          "metadata": {
            "tags": []
          },
          "execution_count": 71
        }
      ]
    },
    {
      "cell_type": "markdown",
      "metadata": {
        "id": "gkjh521HPGB2",
        "colab_type": "text"
      },
      "source": [
        "De igual manera podemos usar las operaciones - (resta) y / (división) con escalares.\n",
        "\n",
        "**Ejercicio**: Definir la siguiente matriz:  \n",
        "\n",
        "$\\left[ \\begin{array}{cc}\n",
        "4 & 7  \\\\\n",
        "9 & 2  \\\\\n",
        "\\end{array} \\right]$\n",
        "\n",
        "Y restarle -3 a cada uno de sus elementos. "
      ]
    },
    {
      "cell_type": "code",
      "metadata": {
        "id": "NX_lDXh7RKC-",
        "colab_type": "code",
        "colab": {}
      },
      "source": [
        ""
      ],
      "execution_count": 0,
      "outputs": []
    },
    {
      "cell_type": "markdown",
      "metadata": {
        "id": "wENfQwA4WA-X",
        "colab_type": "text"
      },
      "source": [
        "# Operaciones de matrices \n",
        "\n",
        "La suma de matrices se define de manera natural sumando cada uno de los elementos de las matrices, para realizar esta operación las matrices deben tener el mismo número de filas y columnas. A continuación definiremos la matriz B con las mismas dimensiones de la matriz A y realizaremos la suma entre ambas matrices. "
      ]
    },
    {
      "cell_type": "code",
      "metadata": {
        "id": "XXuu8RySWC0H",
        "colab_type": "code",
        "colab": {
          "base_uri": "https://localhost:8080/",
          "height": 52
        },
        "outputId": "37bde7b0-cba6-4926-a03f-0480c99f1d8c"
      },
      "source": [
        "B = np.array([[3, 5], [14, 4]])\n",
        "print(B)"
      ],
      "execution_count": 72,
      "outputs": [
        {
          "output_type": "stream",
          "text": [
            "[[ 3  5]\n",
            " [14  4]]\n"
          ],
          "name": "stdout"
        }
      ]
    },
    {
      "cell_type": "code",
      "metadata": {
        "id": "Sv9k3gg8Xd6e",
        "colab_type": "code",
        "colab": {
          "base_uri": "https://localhost:8080/",
          "height": 52
        },
        "outputId": "757cef48-b417-4c33-8947-932ae015f286"
      },
      "source": [
        "print(A) # Mostramos la matriz A "
      ],
      "execution_count": 73,
      "outputs": [
        {
          "output_type": "stream",
          "text": [
            "[[1 2]\n",
            " [3 4]]\n"
          ],
          "name": "stdout"
        }
      ]
    },
    {
      "cell_type": "code",
      "metadata": {
        "id": "toKYyGTxXTmK",
        "colab_type": "code",
        "colab": {
          "base_uri": "https://localhost:8080/",
          "height": 52
        },
        "outputId": "aecb9681-804a-4e9e-debe-02a900bd934b"
      },
      "source": [
        "A + B # Sumamos A y B "
      ],
      "execution_count": 74,
      "outputs": [
        {
          "output_type": "execute_result",
          "data": {
            "text/plain": [
              "array([[ 4,  7],\n",
              "       [17,  8]])"
            ]
          },
          "metadata": {
            "tags": []
          },
          "execution_count": 74
        }
      ]
    },
    {
      "cell_type": "markdown",
      "metadata": {
        "id": "2oPEya7IXqR5",
        "colab_type": "text"
      },
      "source": [
        "De igual manera podemos realizar la operación de multiplicar cada uno de los elementos de las matrices A y B utilizando el operador *. No hay que confundir esta operación con la multiplicación matricial la cual definiremos posteriormente. "
      ]
    },
    {
      "cell_type": "code",
      "metadata": {
        "id": "AGqNZ6I3XZXP",
        "colab_type": "code",
        "colab": {
          "base_uri": "https://localhost:8080/",
          "height": 52
        },
        "outputId": "3eb49d22-ca3c-40f4-f8f4-a6b4d656b824"
      },
      "source": [
        "A * B "
      ],
      "execution_count": 75,
      "outputs": [
        {
          "output_type": "execute_result",
          "data": {
            "text/plain": [
              "array([[ 3, 10],\n",
              "       [42, 16]])"
            ]
          },
          "metadata": {
            "tags": []
          },
          "execution_count": 75
        }
      ]
    },
    {
      "cell_type": "markdown",
      "metadata": {
        "id": "HfVa88qdbqz7",
        "colab_type": "text"
      },
      "source": [
        "Otra forma en la que podemos realizar la anterior operación es con la función multiply de NumPy de la siguiente forma: "
      ]
    },
    {
      "cell_type": "code",
      "metadata": {
        "id": "tfjxUAFlb2Bs",
        "colab_type": "code",
        "colab": {
          "base_uri": "https://localhost:8080/",
          "height": 52
        },
        "outputId": "c8ec0799-0ca7-47f6-c9a2-52224f689ee9"
      },
      "source": [
        "np.multiply(A, B )"
      ],
      "execution_count": 76,
      "outputs": [
        {
          "output_type": "execute_result",
          "data": {
            "text/plain": [
              "array([[ 3, 10],\n",
              "       [42, 16]])"
            ]
          },
          "metadata": {
            "tags": []
          },
          "execution_count": 76
        }
      ]
    },
    {
      "cell_type": "markdown",
      "metadata": {
        "id": "8KPHe9BxZA2O",
        "colab_type": "text"
      },
      "source": [
        "Tambien es posible realizar las operaciones - (resta) y / (división). \n",
        "\n",
        "**Ejercicio**: Hacer la resta de las siguientes matrices: \n",
        "\n",
        "\n",
        "$$\n",
        "  \\left[ \\begin{array}{cc}\n",
        "1 & 0 \\\\\n",
        "0 & 1\n",
        "\\end{array} \\right] - \\left[ \\begin{array}{cc}\n",
        "1 & 0 \\\\\n",
        "0 & 1\n",
        "\\end{array} \\right] $$\n",
        "\n",
        "$$\n",
        "  \\left( \\begin{array}{cc}\n",
        "1 & 0 \\\\\n",
        "0 & 1\n",
        "\\end{array} \\right) \\times \\left( \\begin{array}{cc}\n",
        "1 & 0 \\\\\n",
        "0 & 1\n",
        "\\end{array} \\right) =\\left( \\begin{array}{cc}\n",
        "1 & 0 \\\\\n",
        "0 & 1\n",
        "\\end{array} \\right)$$"
      ]
    },
    {
      "cell_type": "code",
      "metadata": {
        "id": "EF3ErWvbY6pa",
        "colab_type": "code",
        "colab": {}
      },
      "source": [
        ""
      ],
      "execution_count": 0,
      "outputs": []
    },
    {
      "cell_type": "markdown",
      "metadata": {
        "id": "oW0FFUFgc5fX",
        "colab_type": "text"
      },
      "source": [
        "# Matriz Producto\n",
        "\n",
        "La matriz producto A y B es una operación que produce una matriz con número de filas iguales a las de A y número de columnas iguales a las de B. Para que esta operación pueda darse es necesario que el número de columnas de la matriz A sea igual al número de filas de B. A continuación vamos a ejemplificar esta operación.\n"
      ]
    },
    {
      "cell_type": "code",
      "metadata": {
        "id": "ZWo0ia-QeLvb",
        "colab_type": "code",
        "colab": {
          "base_uri": "https://localhost:8080/",
          "height": 69
        },
        "outputId": "cc2292e9-5e59-4c9c-dbf6-60bdf3e51f2c"
      },
      "source": [
        "M = np.array([[1, 2, 3], [4, 5, 6]])\n",
        "print(M)\n",
        "print(M.shape)"
      ],
      "execution_count": 78,
      "outputs": [
        {
          "output_type": "stream",
          "text": [
            "[[1 2 3]\n",
            " [4 5 6]]\n",
            "(2, 3)\n"
          ],
          "name": "stdout"
        }
      ]
    },
    {
      "cell_type": "code",
      "metadata": {
        "id": "sVMD4EhMeXpv",
        "colab_type": "code",
        "colab": {
          "base_uri": "https://localhost:8080/",
          "height": 86
        },
        "outputId": "b99c2fa6-0641-4af7-e2de-a8dc796cc4f7"
      },
      "source": [
        "N = np.array([[7, 8], [9, 10], [11, 12]])\n",
        "print(N)\n",
        "print(N.shape)"
      ],
      "execution_count": 79,
      "outputs": [
        {
          "output_type": "stream",
          "text": [
            "[[ 7  8]\n",
            " [ 9 10]\n",
            " [11 12]]\n",
            "(3, 2)\n"
          ],
          "name": "stdout"
        }
      ]
    },
    {
      "cell_type": "markdown",
      "metadata": {
        "id": "3tMUL4dbemSg",
        "colab_type": "text"
      },
      "source": [
        "Para calcular la matriz producto usaremos la función matmul del paquete NumPy."
      ]
    },
    {
      "cell_type": "code",
      "metadata": {
        "id": "ql66ptnDef_n",
        "colab_type": "code",
        "colab": {
          "base_uri": "https://localhost:8080/",
          "height": 52
        },
        "outputId": "e0734f48-1d28-4023-e9c1-519a2ff0ddb2"
      },
      "source": [
        "np.matmul(M, N)"
      ],
      "execution_count": 80,
      "outputs": [
        {
          "output_type": "execute_result",
          "data": {
            "text/plain": [
              "array([[ 58,  64],\n",
              "       [139, 154]])"
            ]
          },
          "metadata": {
            "tags": []
          },
          "execution_count": 80
        }
      ]
    },
    {
      "cell_type": "markdown",
      "metadata": {
        "id": "PKnMPiM1e1A4",
        "colab_type": "text"
      },
      "source": [
        "El elemento que esta en la primera fila y primera columna se calcula como la suma de los elementos del  producto entre la primera fila de M con la primera columna de N, de igual manera el elemento que ocupa la primera fila y segunda columna se ha obtenido de la suma de los elementos del producto entre la primera fila de M con la segunda columna de N, y así sucesivamente. \n",
        "\n",
        "**Ejercicio**: Calcular el producto de las siguientes matrices: \n",
        "\n",
        "$$\n",
        "  \\left( \\begin{array}{cc}\n",
        "1 & 0 \\\\\n",
        "0 & 1\n",
        "\\end{array} \\right) \\times \\left( \\begin{array}{cc}\n",
        "1 & 0 \\\\\n",
        "0 & 1\n",
        "\\end{array} \\right) $$"
      ]
    },
    {
      "cell_type": "code",
      "metadata": {
        "id": "vBh36_W5euWP",
        "colab_type": "code",
        "colab": {}
      },
      "source": [
        ""
      ],
      "execution_count": 0,
      "outputs": []
    },
    {
      "cell_type": "markdown",
      "metadata": {
        "id": "z-Bo6UmDgVIy",
        "colab_type": "text"
      },
      "source": [
        "# Transpuesta de una matriz\n",
        "\n"
      ]
    },
    {
      "cell_type": "markdown",
      "metadata": {
        "id": "VoDbybrdiUxI",
        "colab_type": "text"
      },
      "source": [
        "La matriz transpuesta tiene los mismos valores que la matriz original, sin embargo, las filas y columnas se intercambian. En NumPy podemos calcular la matriz transpuesta utilizando el atributo T o utilizando la función transpose de NumPy. A continuación vamos a dar un ejemplo. "
      ]
    },
    {
      "cell_type": "code",
      "metadata": {
        "id": "Ae0678d6gYTK",
        "colab_type": "code",
        "colab": {
          "base_uri": "https://localhost:8080/",
          "height": 69
        },
        "outputId": "63e20002-79a1-4be3-c4f5-20006e21e255"
      },
      "source": [
        "Z = np.array([[2, 3, 4], [1, -5, 9]])\n",
        "print(Z)\n",
        "print(Z.shape)"
      ],
      "execution_count": 81,
      "outputs": [
        {
          "output_type": "stream",
          "text": [
            "[[ 2  3  4]\n",
            " [ 1 -5  9]]\n",
            "(2, 3)\n"
          ],
          "name": "stdout"
        }
      ]
    },
    {
      "cell_type": "code",
      "metadata": {
        "id": "w7wXTOb2jcUm",
        "colab_type": "code",
        "colab": {
          "base_uri": "https://localhost:8080/",
          "height": 86
        },
        "outputId": "bd2dcec1-edff-43a5-8bbf-4727aa326416"
      },
      "source": [
        "print(Z.T)\n",
        "print(Z.T.shape)"
      ],
      "execution_count": 82,
      "outputs": [
        {
          "output_type": "stream",
          "text": [
            "[[ 2  1]\n",
            " [ 3 -5]\n",
            " [ 4  9]]\n",
            "(3, 2)\n"
          ],
          "name": "stdout"
        }
      ]
    },
    {
      "cell_type": "code",
      "metadata": {
        "id": "yzHr9b4MjhvL",
        "colab_type": "code",
        "colab": {
          "base_uri": "https://localhost:8080/",
          "height": 86
        },
        "outputId": "793be4c5-665c-4f20-f6e8-f68c5bbcfd98"
      },
      "source": [
        "print(np.transpose(Z))\n",
        "print(np.transpose(Z).shape)"
      ],
      "execution_count": 83,
      "outputs": [
        {
          "output_type": "stream",
          "text": [
            "[[ 2  1]\n",
            " [ 3 -5]\n",
            " [ 4  9]]\n",
            "(3, 2)\n"
          ],
          "name": "stdout"
        }
      ]
    },
    {
      "cell_type": "markdown",
      "metadata": {
        "id": "ZSpThFL0jvC7",
        "colab_type": "text"
      },
      "source": [
        "**Ejercicio**: Calcula la transpuesta de la siguiente matriz.\n",
        "\n",
        "$\\left[ \\begin{array}{ccc}\n",
        "1 & 7 &  3\\\\\n",
        "7 & 4 & -5 \\\\\n",
        "3 & -5 & 6\n",
        "\\end{array} \\right]$\n"
      ]
    },
    {
      "cell_type": "code",
      "metadata": {
        "id": "PThBa49Mktbb",
        "colab_type": "code",
        "colab": {}
      },
      "source": [
        ""
      ],
      "execution_count": 0,
      "outputs": []
    }
  ]
}